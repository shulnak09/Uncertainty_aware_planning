{
 "cells": [
  {
   "cell_type": "code",
   "execution_count": 2,
   "metadata": {},
   "outputs": [
    {
     "name": "stderr",
     "output_type": "stream",
     "text": [
      "/home/anshul/miniconda3/envs/uncertainty_aware/lib/python3.8/site-packages/tqdm/auto.py:21: TqdmWarning: IProgress not found. Please update jupyter and ipywidgets. See https://ipywidgets.readthedocs.io/en/stable/user_install.html\n",
      "  from .autonotebook import tqdm as notebook_tqdm\n"
     ]
    },
    {
     "data": {
      "text/plain": [
       "'NVIDIA GeForce RTX 3060 Laptop GPU'"
      ]
     },
     "execution_count": 2,
     "metadata": {},
     "output_type": "execute_result"
    }
   ],
   "source": [
    "import numpy as np\n",
    "import os\n",
    "import math\n",
    "from matplotlib import pyplot as plt\n",
    "import torch\n",
    "import os\n",
    "\n",
    "from torch.utils.tensorboard import SummaryWriter\n",
    "from tqdm import trange\n",
    "\n",
    "from scipy.linalg import inv, cho_factor, cho_solve\n",
    "import glob\n",
    "import optuna\n",
    "\n",
    "torch.manual_seed(1)\n",
    "from Kalman_module_trial import *\n",
    "from augment import *\n",
    "from normalize import Normalization\n",
    "from model import lstm_encoder, lstm_decoder, lstm_seq2seq, EnsembleModel, xavier_initialize, he_initialize\n",
    "from utils import *\n",
    "from dataset import TrajDataset\n",
    "import pickle as pkl\n",
    "\n",
    "device = torch.device('cuda:0' if torch.cuda.is_available() else 'cpu')\n",
    "torch.cuda.get_device_name(0)"
   ]
  },
  {
   "cell_type": "code",
   "execution_count": 3,
   "metadata": {},
   "outputs": [],
   "source": [
    "\n",
    "def read_file(_path, delim='\\t'):\n",
    "    data = []\n",
    "    if delim == 'tab':\n",
    "        delim = '\\t'\n",
    "    elif delim == 'space':\n",
    "        delim = ' '\n",
    "    with open(_path, 'r') as f:\n",
    "        for line in f:\n",
    "            line = line.strip().split(delim)\n",
    "            line = [float(i) for i in line]\n",
    "            data.append(line)\n",
    "    return np.asarray(data)\n",
    "\n",
    "def poly_fit(traj, traj_len, threshold):\n",
    "    \"\"\"\n",
    "    Input:\n",
    "    - traj: Numpy array of shape (2, traj_len)\n",
    "    - traj_len: Len of trajectory\n",
    "    - threshold: Minimum error to be considered for non linear traj\n",
    "    Output:\n",
    "    - int: 1 -> Non Linear 0-> Linear\n",
    "    \"\"\"\n",
    "    t = np.linspace(0, traj_len - 1, traj_len)\n",
    "    res_x = np.polyfit(t, traj[0, -traj_len:], 2, full=True)[1]\n",
    "    res_y = np.polyfit(t, traj[1, -traj_len:], 2, full=True)[1]\n",
    "    if res_x + res_y >= threshold:\n",
    "        return 1.0\n",
    "    else:\n",
    "        return 0.0\n",
    "\n",
    "data_dir = \"/home/anshul/Research/Pred_unc_aware_planning/Pedestrian_Trajectory_Prediction/scripts/datasets/eth/train\"\n",
    "delim = \"\\t\"\n",
    "skip = 2\n",
    "obs_len = 8\n",
    "pred_len = 12\n",
    "\n",
    "\n",
    "def dataset(data_dir, delim = '\\t', skip = 1, obs_len = 8, pred_len =12, origin = 'last_obs'):\n",
    "\n",
    "    seq_len= obs_len + pred_len\n",
    "    all_files = os.listdir(data_dir)\n",
    "    all_files = [os.path.join(data_dir, _path) for _path in all_files]\n",
    "    num_peds_in_seq = []\n",
    "    seq_list = []\n",
    "    initial_pos = []\n",
    "    seq_list_rel = []\n",
    "    loss_mask_list = []\n",
    "    non_linear_ped = []\n",
    "    for path in all_files:\n",
    "        data = read_file(path, delim) \n",
    "        frames = np.unique(data[:, 0]).tolist() # Frames Refer to the 2.5 HZ (0.4 sec) capture \n",
    "        frame_data = []\n",
    "        for frame in frames:\n",
    "            frame_data.append(data[frame == data[:, 0], :])\n",
    "        num_sequences = int(math.ceil((len(frames) - seq_len + 1) / skip))\n",
    "\n",
    "\n",
    "        for idx in range(0, num_sequences * skip + 1, skip):\n",
    "                    curr_seq_data = np.concatenate(\n",
    "                        frame_data[idx:idx + seq_len], axis=0)\n",
    "                    peds_in_curr_seq = np.unique(curr_seq_data[:, 1])\n",
    "\n",
    "\n",
    "                    curr_seq_rel = np.zeros((len(peds_in_curr_seq), 2,\n",
    "                                            seq_len))\n",
    "                    curr_seq = np.zeros((len(peds_in_curr_seq), 2, seq_len))\n",
    "                    curr_loss_mask = np.zeros((len(peds_in_curr_seq),\n",
    "                                            seq_len))\n",
    "                    num_peds_considered = 0\n",
    "                    non_linear_ped = []\n",
    "                    for _, ped_id in enumerate(peds_in_curr_seq):\n",
    "                        curr_ped_seq = curr_seq_data[curr_seq_data[:, 1] ==\n",
    "                                                    ped_id, :]\n",
    "                    \n",
    "        \n",
    "                        curr_ped_seq = np.around(curr_ped_seq, decimals=4)\n",
    "                        pad_front = frames.index(curr_ped_seq[0, 0]) - idx\n",
    "                        pad_end = frames.index(curr_ped_seq[-1, 0]) - idx + 1\n",
    "                        if pad_end - pad_front != seq_len:\n",
    "                            continue\n",
    "                        curr_ped_seq = np.transpose(curr_ped_seq[:, 2:]) # stores the (x,y)  coordinates for each pedestrian\n",
    "                        \n",
    "                        \n",
    "                        \n",
    "                        if origin == 'first_obs':\n",
    "                             starting_pos  =  curr_ped_seq[:,0][:, np.newaxis].copy()\n",
    "                             curr_ped_seq -=  curr_ped_seq[:,0][:, np.newaxis]\n",
    "                           \n",
    "                             \n",
    "                             \n",
    "                             \n",
    "                        elif origin =='last_obs':\n",
    "                             starting_pos  = curr_ped_seq[:,obs_len-1][:,np.newaxis].copy()\n",
    "                             curr_ped_seq -= curr_ped_seq[:,obs_len-1][:,np.newaxis]\n",
    "                             \n",
    "                             \n",
    "                             \n",
    "                        elif origin =='original':\n",
    "                             starting_pos  = np.zeros(2,).copy()\n",
    "                             curr_ped_seq  = curr_ped_seq\n",
    "\n",
    "\n",
    "                        # Append Homoskedastic Noise as state Uncertainty:\n",
    "                        sigma = 0.005\n",
    "                        noise = np.random.rand(2, seq_len) * sigma **2\n",
    "                        curr_ped_seq = np.concatenate((curr_ped_seq, noise), axis = 0)\n",
    "\n",
    "                        seq_list.append(curr_ped_seq)\n",
    "                        initial_pos.append(starting_pos)\n",
    "                       \n",
    "\n",
    "    initial_pos = np.array(initial_pos)\n",
    "    seq_list = np.array(seq_list)\n",
    "    seq_list = seq_list.transpose(0,2,1)\n",
    "    seq_list = np.expand_dims(seq_list, axis =1)\n",
    "    initial_pos = np.array(initial_pos)\n",
    "    return seq_list, initial_pos\n",
    "\n",
    "\n",
    "# loss_mask_list = np.concatenate(loss_mask_list, axis=0)\n",
    "# non_linear_ped = np.asarray(non_linear_ped)\n"
   ]
  },
  {
   "cell_type": "code",
   "execution_count": 4,
   "metadata": {},
   "outputs": [],
   "source": [
    "\n",
    "train_dir = \"/home/anshul/Research/Pred_unc_aware_planning/Pedestrian_Trajectory_Prediction/scripts/datasets/zara2/train\"\n",
    "val_dir = \"/home/anshul/Research/Pred_unc_aware_planning/Pedestrian_Trajectory_Prediction/scripts/datasets/zara2/val\"\n",
    "test_dir = \"/home/anshul/Research/Pred_unc_aware_planning/Pedestrian_Trajectory_Prediction/scripts/datasets/zara2/test\"\n",
    "\n",
    "train_data, train_start_pos = dataset(train_dir, delim = '\\t', skip = 1, obs_len = 8,  pred_len =12, origin = 'original' )\n",
    "val_data, val_start_pos = dataset(val_dir, delim = '\\t', skip = 1, obs_len = 8,  pred_len =12, origin = 'original' )\n",
    "test_data, test_start_pos = dataset(test_dir, delim = '\\t', skip = 1, obs_len = 8,  pred_len =12, origin = 'original' )"
   ]
  },
  {
   "cell_type": "code",
   "execution_count": 5,
   "metadata": {},
   "outputs": [
    {
     "data": {
      "text/plain": [
       "(5910, 1, 20, 4)"
      ]
     },
     "execution_count": 5,
     "metadata": {},
     "output_type": "execute_result"
    }
   ],
   "source": [
    "test_data.shape"
   ]
  },
  {
   "cell_type": "code",
   "execution_count": 6,
   "metadata": {},
   "outputs": [
    {
     "data": {
      "image/png": "[encoded data removed]",
      "text/plain": [
       "<Figure size 640x480 with 1 Axes>"
      ]
     },
     "metadata": {},
     "output_type": "display_data"
    }
   ],
   "source": [
    "indices = np.random.randint(train_data.shape[0], size =10)\n",
    "for idx in indices:\n",
    "    plt.plot(train_data[idx, 0, :, 0], train_data[idx, 0, :, 1])"
   ]
  },
  {
   "cell_type": "code",
   "execution_count": 25,
   "metadata": {},
   "outputs": [],
   "source": [
    "# Loading the data on the device\n",
    "num_fea = 2\n",
    "\n",
    "def normalize_data(data):\n",
    "    reshaped_data = data.reshape(-1, data.shape[-1])\n",
    "    \n",
    "    mean = torch.mean(reshaped_data, dim = 0)\n",
    "    std = torch.std(reshaped_data, dim = 0)\n",
    "    \n",
    "    normalized_data = (data - mean)/std\n",
    "    return normalized_data, mean, std\n",
    "\n",
    "def denormalize_data(data, mean, std):\n",
    "    denormalized_data = (data * std) + mean\n",
    "    return denormalized_data\n",
    "\n",
    "def generate_dataloader(gaussian_traj, num_fea, normalize = True):\n",
    "    gaussian_traj = torch.tensor(gaussian_traj).float().to(device)\n",
    "    if normalize:\n",
    "        gaussian_traj, mean, std = normalize_data(gaussian_traj)\n",
    "        input_traj, output_traj = torch.split(gaussian_traj, [8,12], dim = 2)\n",
    "        return gaussian_traj, input_traj, output_traj, mean, std\n",
    "    else:\n",
    "        mean, std  = None, None\n",
    "        input_traj, output_traj = torch.split(gaussian_traj, [8,12], dim = 2)\n",
    "        return gaussian_traj, input_traj, output_traj\n",
    "    \n",
    "    \n",
    "gaussian_train_traj, train_input, train_output = generate_dataloader(train_data, num_fea, normalize = False)\n",
    "gaussian_val_traj, val_input, val_output = generate_dataloader(val_data, num_fea, normalize = False)\n",
    "gaussian_test_traj, test_input, test_output = generate_dataloader(test_data, num_fea, normalize = False)\n",
    "\n"
   ]
  },
  {
   "cell_type": "code",
   "execution_count": 26,
   "metadata": {},
   "outputs": [
    {
     "name": "stdout",
     "output_type": "stream",
     "text": [
      "Initializing module: lstm_seq2seq(\n",
      "  (encoder): lstm_encoder(\n",
      "    (dropout): Dropout(p=0.25, inplace=False)\n",
      "    (lstm): LSTM(4, 128, num_layers=2, dropout=0.25)\n",
      "  )\n",
      "  (decoder): DecoderAttention(\n",
      "    (dropout): Dropout(p=0.25, inplace=False)\n",
      "    (attention): Attention(\n",
      "      (attn): Linear(in_features=256, out_features=128, bias=True)\n",
      "      (v): Linear(in_features=128, out_features=1, bias=False)\n",
      "    )\n",
      "    (lstm): LSTM(132, 128, num_layers=2)\n",
      "    (linear): Linear(in_features=256, out_features=6, bias=True)\n",
      "  )\n",
      ")\n",
      "Initializing module: lstm_encoder(\n",
      "  (dropout): Dropout(p=0.25, inplace=False)\n",
      "  (lstm): LSTM(4, 128, num_layers=2, dropout=0.25)\n",
      ")\n",
      "Initializing module: Dropout(p=0.25, inplace=False)\n",
      "Initializing module: LSTM(4, 128, num_layers=2, dropout=0.25)\n",
      "Initializing LSTM param: weight_ih_l0\n",
      "Initializing LSTM param: weight_hh_l0\n",
      "Initializing LSTM param: bias_ih_l0\n",
      "Initializing LSTM param: bias_hh_l0\n",
      "Initializing LSTM param: weight_ih_l1\n",
      "Initializing LSTM param: weight_hh_l1\n",
      "Initializing LSTM param: bias_ih_l1\n",
      "Initializing LSTM param: bias_hh_l1\n",
      "Initializing module: DecoderAttention(\n",
      "  (dropout): Dropout(p=0.25, inplace=False)\n",
      "  (attention): Attention(\n",
      "    (attn): Linear(in_features=256, out_features=128, bias=True)\n",
      "    (v): Linear(in_features=128, out_features=1, bias=False)\n",
      "  )\n",
      "  (lstm): LSTM(132, 128, num_layers=2)\n",
      "  (linear): Linear(in_features=256, out_features=6, bias=True)\n",
      ")\n",
      "Initializing module: Dropout(p=0.25, inplace=False)\n",
      "Initializing module: Attention(\n",
      "  (attn): Linear(in_features=256, out_features=128, bias=True)\n",
      "  (v): Linear(in_features=128, out_features=1, bias=False)\n",
      ")\n",
      "Initializing module: Linear(in_features=256, out_features=128, bias=True)\n",
      "Initializing module: Linear(in_features=128, out_features=1, bias=False)\n",
      "No bias found in Linear(in_features=128, out_features=1, bias=False)\n",
      "Initializing module: LSTM(132, 128, num_layers=2)\n",
      "Initializing LSTM param: weight_ih_l0\n",
      "Initializing LSTM param: weight_hh_l0\n",
      "Initializing LSTM param: bias_ih_l0\n",
      "Initializing LSTM param: bias_hh_l0\n",
      "Initializing LSTM param: weight_ih_l1\n",
      "Initializing LSTM param: weight_hh_l1\n",
      "Initializing LSTM param: bias_ih_l1\n",
      "Initializing LSTM param: bias_hh_l1\n",
      "Initializing module: Linear(in_features=256, out_features=6, bias=True)\n"
     ]
    },
    {
     "name": "stderr",
     "output_type": "stream",
     "text": [
      " 50%|█████     | 50/100 [04:12<04:12,  5.06s/it, loss=-0.253, val_loss=-0.197]"
     ]
    },
    {
     "name": "stdout",
     "output_type": "stream",
     "text": [
      "Early stopping triggered\n",
      "Model No.1 trained.\n",
      "-0.19734169745734378\n"
     ]
    },
    {
     "name": "stderr",
     "output_type": "stream",
     "text": [
      "\n"
     ]
    },
    {
     "data": {
      "image/png": "[encoded data removed]",
      "text/plain": [
       "<Figure size 450x300 with 1 Axes>"
      ]
     },
     "metadata": {},
     "output_type": "display_data"
    },
    {
     "name": "stdout",
     "output_type": "stream",
     "text": [
      "Train MSE: 0.16040241718292236\n",
      "Test MSE: 0.10601955652236938\n"
     ]
    }
   ],
   "source": [
    "# Create the tensor dataset\n",
    "from torch.utils import tensorboard\n",
    "from torch.utils.data import DataLoader,TensorDataset\n",
    "from torchsummary import summary\n",
    "import random\n",
    "\n",
    "# Define the full path to your log directory\n",
    "log_dir = r\"/home/anshul/OneDrive/Pred_unc_aware_planning/Deep_Ensemble/runs/Attention\"\n",
    "\n",
    "# Ensure the directory exists\n",
    "os.makedirs(log_dir, exist_ok=True)\n",
    "writer = SummaryWriter(log_dir=log_dir)\n",
    "\n",
    "\n",
    "# idx = list(range(num_traj))\n",
    "# random.shuffle(idx)\n",
    "\n",
    "\n",
    "batch_size = 64\n",
    "hidden_size = 128\n",
    "dropout = 0.25\n",
    "beta = 0.2\n",
    "teacher_forcing_ratio = 0.76\n",
    "learning_rate = 0.0044\n",
    "num_layers = 2\n",
    "num_models = 1\n",
    "dynamic_TF = True\n",
    "optimizer_name = 'Adam'\n",
    "num_fea = train_input.shape[3]\n",
    "preds, sigmas = [],[]\n",
    "losses = []\n",
    "train_MSE, test_MSE = [], []\n",
    "min_val = -1\n",
    "max_val = 1\n",
    "\n",
    "# def objective(trial):\n",
    "\n",
    "#     # Log trial information\n",
    "#     print(f\"Starting trial {trial.number} with parameters: {trial.params}\")\n",
    "\n",
    "\n",
    "# Define search space:\n",
    "'''\n",
    "optuna results:\n",
    "Best trial:\n",
    "'learning_rate': 0.004462667760163701,\n",
    "'beta': 0.2,\n",
    "'teacher_forcing_ratio': 0.7652066111782738,\n",
    "'batch_size': 64,\n",
    "'optimizer_name': 'Adam',\n",
    "'hidden_size': 128,\n",
    "'dynamic_tf': 'True',\n",
    "'dropout': 0.2532220879893445\n",
    "\n",
    "\n",
    "{'learning_rate': 0.00803494629958372, \n",
    "'teacher_forcing_ratio': 0.8818260080309833,\n",
    "'batch_size': 32, \n",
    "'optimizer_name': 'Adam', \n",
    "'hidden_size': 64, \n",
    "'init_weight': 'xavier_initialize',\n",
    "'dynamic_tf': 'True',\n",
    "'dropout': 0.30287832302041306}\n",
    "\n",
    "'''\n",
    "# learning_rate = trial.suggest_float('learning_rate', 1e-4, 1e-2) \n",
    "# beta = trial.suggest_categorical('beta', [0.1, 0.2, 0.3, 0.4, 0.5])\n",
    "# teacher_forcing_ratio = trial.suggest_float('teacher_forcing_ratio', 0.0, 1.0)\n",
    "# batch_size = trial.suggest_categorical('batch_size',[32, 64,128,256])\n",
    "# optimizer_name = trial.suggest_categorical('optimizer_name',['Adam','SGD','RMSProp'])\n",
    "# hidden_size = trial.suggest_categorical('hidden_size',[64, 128, 256])\n",
    "# # init_weight = trial.suggest_categorical('init_weight',['xavier_initialize','he_initialize'])\n",
    "# dynamic_TF = trial.suggest_categorical('dynamic_tf',['True','False'])\n",
    "# dropout = trial.suggest_float('dropout', 0, 0.5)\n",
    "\n",
    "# hidden_size = np.random.choice([64,128,256])\n",
    "deep_ensemble = EnsembleModel(input_size = num_fea, hidden_size = hidden_size, output_size = num_fea + 2, num_layers = num_layers, \n",
    "                                dropout = dropout,  use_attention= True, device = device, num_models = num_models, init_weight = xavier_initialize)\n",
    "\n",
    "ensemble_val_loss = []\n",
    "for i, model  in enumerate(deep_ensemble.models):\n",
    "\n",
    "#     print(i)\n",
    "#     train_data = TrajDataset(train_input[:,i,:,:], train_output[:,i,:,:], min_val = min_val, max_val = max_val)\n",
    "#     val_data =  TrajDataset(val_input[:,i,:,:], val_output[:,i,:,:], min_val = min_val, max_val = max_val)\n",
    "#     test_data = TrajDataset(test_input[:,i,:,:], test_output[:,i,:,:], min_val = min_val, max_val = max_val)\n",
    "\n",
    "    train_data = TensorDataset(train_input[:,i,:,:], train_output[:,i,:,:])\n",
    "    val_data =  TensorDataset(val_input[:,i,:,:], val_output[:,i,:,:])\n",
    "    test_data = TensorDataset(test_input[:,i,:,:], test_output[:,i,:,:])\n",
    "\n",
    "    # Train, validataion and Test DataLoader\n",
    "    train_loader = DataLoader(train_data, batch_size = batch_size, shuffle = False)\n",
    "    val_loader =   DataLoader(val_data, batch_size = batch_size, shuffle = False)\n",
    "    test_loader =  DataLoader(test_data, batch_size = batch_size, shuffle = False)\n",
    "    \n",
    "#     train_features, train_labels = next(iter(train_loader))\n",
    "#     print('Train Features :',train_features)\n",
    "#     print('Train labels :',train_labels)\n",
    "\n",
    "# Load the model\n",
    "#     model = lstm_seq2seq(input_size = num_fea ,hidden_size = 128, device = device)\n",
    "#     print(model)\n",
    "\n",
    "#     break\n",
    "\n",
    "    loss, val_loss = model.train_model(device,\n",
    "                            train_loader, \n",
    "                            val_loader,\n",
    "                            n_epochs = 100, \n",
    "                            target_len = pred_len, \n",
    "                            beta = beta,\n",
    "                            training_prediction ='teacher_forcing', \n",
    "                            teacher_forcing_ratio = teacher_forcing_ratio, \n",
    "                            learning_rate = learning_rate,  \n",
    "                            dynamic_tf = dynamic_TF,\n",
    "                            optimizer_name = optimizer_name,\n",
    "                            writer = writer\n",
    "                            )\n",
    "    \n",
    "    # for n_iter in range(loss.shape):\n",
    "    #     writer.add_scalar('Training Loss', loss[n_iter], n_iter)\n",
    "    #     writer.add_scalar('validation Loss', val_loss[n_iter], n_iter)\n",
    "        \n",
    "    print('Model No.{} trained.'.format(i+1))\n",
    "    valid_val_losses = [loss for loss in val_loss if not np.isnan(loss)]\n",
    "    if valid_val_losses:\n",
    "        last_valid_val_loss = valid_val_losses[-1]\n",
    "    else:\n",
    "        last_valid_val_loss = np.inf\n",
    "    print(last_valid_val_loss)\n",
    "    ensemble_val_loss.append(last_valid_val_loss)\n",
    "\n",
    "# # summarize history for loss\n",
    "# #     plt.plot(history.history['loss'])\n",
    "# #     plt.plot(history.history['val_loss'])\n",
    "# #     plt.title('model loss')\n",
    "# #     plt.ylabel('loss')\n",
    "# #     plt.xlabel('epoch')\n",
    "# #     plt.legend(['train', 'test'], loc='upper left')\n",
    "# #     plt.show()\n",
    "    plt.figure(figsize=(3,2), dpi=150)\n",
    "    plt.plot(loss, lw=2.,color = 'r', label = 'Train Loss')\n",
    "    plt.plot(val_loss,lw=2.,color = 'b', label = 'val Loss')\n",
    "    # plt.yscale(\"log\")\n",
    "    plt.grid(\"on\", alpha=0.2)\n",
    "    plt.ylabel(\"NLL Loss\", fontsize=12)\n",
    "    plt.xlabel(\"Epochs\", fontsize=12)\n",
    "    plt.legend()\n",
    "    plt.show()\n",
    "\n",
    "    \n",
    "    min_logvar, max_logvar = -4, 4\n",
    "\n",
    "    y_train_pred = model.predict(val_input[:,i,:,:], pred_len, device)\n",
    "    # y_train_pred = model.predict(X_train, target_len=forward_pred)\n",
    "#     y_train_pred_mean_mu, y_train_pred_mean_sigma, y_train_pred_logvar = y_train_pred[:,:,:int(num_fea/2)], torch.abs(y_train_pred[:,:,int(num_fea/2):num_fea]),  y_train_pred[:,:,num_fea:]#target_len, b, 8\n",
    "    y_train_pred_mu,   y_train_state_logvar, y_train_pred_logvar = y_train_pred[:,:,:int(num_fea/2)], (y_train_pred[:,:,int(num_fea/2):num_fea]), (y_train_pred[:,:,num_fea:])#target_len, b, 8\n",
    "    y_train_state_var = torch.exp(y_train_state_logvar)\n",
    "    y_train_pred_logvar = torch.clamp(y_train_pred_logvar, min=min_logvar, max=max_logvar)\n",
    "    y_train_pred_mean = torch.cat((y_train_pred_mu, y_train_state_var),2)\n",
    "#     y_train_pred_mean = denormalize_data(y_train_pred_mean, train_mean,  train_std)\n",
    "    \n",
    "    # Denormalize Data:\n",
    "    mse_train = ((y_train_pred_mean - val_output[:,i,:,:num_fea])**2).mean()\n",
    "    print(f\"Train MSE: {mse_train}\")\n",
    "\n",
    "    y_test_pred = model.predict(test_input[:,i,:,:], target_len=pred_len, device = device)\n",
    "    # y_test_pred = model.predict(X_test, target_len=forward_pred)\n",
    "#     y_test_pred_mean_mu, y_test_pred_mean_sigma, y_test_pred_logvar = y_test_pred[:,:,:int(num_fea/2)],  torch.abs(y_test_pred[:,:,int(num_fea/2):num_fea]), y_test_pred[:,:,num_fea:]#target_len, b, 8\n",
    "    y_test_pred_mu , y_test_state_logvar, y_test_pred_logvar = y_test_pred[:,:,:int(num_fea/2)], (y_test_pred[:,:,int(num_fea/2):num_fea]), (y_test_pred[:,:,num_fea:])#target_len, b, 8\n",
    "    y_test_state_var = torch.exp(y_test_state_logvar)\n",
    "    y_test_pred_logvar = torch.clamp(y_test_pred_logvar, min=min_logvar, max=max_logvar)\n",
    "    y_test_pred_mean = torch.cat((y_test_pred_mu, y_test_state_var),2)\n",
    "#     y_test_pred_mean = denormalize_data(y_test_pred_mean, train_mean,  train_std)\n",
    "    \n",
    "    # Denormalize Data:\n",
    "    mse_test = ((y_test_pred_mean - test_output[:,i,:,:num_fea])**2).mean()\n",
    "    print(f\"Test MSE: {mse_test}\")\n",
    "    \n",
    "#     train_MSE.append(mse_train)\n",
    "#     test_MSE.append(mse_test)\n",
    "#     losses.append(loss)\n",
    "#     preds.append(y_test_pred_mean)\n",
    "#     sigmas.append(y_test_pred_logvar)\n",
    "\n",
    "# Close the writer\n",
    "writer.close()\n",
    "\n",
    "# return min(ensemble_val_loss)\n"
   ]
  },
  {
   "cell_type": "code",
   "execution_count": 27,
   "metadata": {},
   "outputs": [],
   "source": [
    "# study = optuna.create_study(direction = 'minimize')\n",
    "# study.optimize(objective, n_trials =10)\n",
    "\n",
    "# print(\"Best trial:\")\n",
    "# trial = study.best_trial\n",
    "# print(\"Value:\", trial.value)\n",
    "# print(\"params: \")\n",
    "# for key, value in trial.params.items():\n",
    "#     print(f\" {key}: {value}\")\n",
    "\n",
    "\n",
    "# optuna.visualization.plot_param_importances(study)\n",
    "# import plotly\n",
    "# from plotly import __version__ as plotly_version\n",
    "# print(plotly_version)\n",
    "\n",
    "# optuna.visualization.matplotlib.plot_optimization_history(study)\n"
   ]
  },
  {
   "cell_type": "code",
   "execution_count": 28,
   "metadata": {},
   "outputs": [
    {
     "data": {
      "text/plain": [
       "EnsembleModel()"
      ]
     },
     "execution_count": 28,
     "metadata": {},
     "output_type": "execute_result"
    }
   ],
   "source": [
    "deep_ensemble"
   ]
  },
  {
   "cell_type": "code",
   "execution_count": 29,
   "metadata": {},
   "outputs": [],
   "source": [
    "ensemble_predictions = []\n",
    "for model in deep_ensemble.models:\n",
    "    model.eval()\n",
    "    \n",
    "    with torch.no_grad():\n",
    "        predictions = model.predict(test_input[:,0,:,:], target_len = pred_len, device = device)\n",
    "     \n",
    "    ensemble_predictions.append(predictions)\n",
    "ensemble_predictions = torch.stack(ensemble_predictions)  "
   ]
  },
  {
   "cell_type": "code",
   "execution_count": 30,
   "metadata": {},
   "outputs": [],
   "source": [
    "ensemble_predictions.shape\n",
    "preds = torch.cat((ensemble_predictions[:,:,:,:int(num_fea/2)], torch.exp(ensemble_predictions[:,:,:,int(num_fea/2):int(num_fea)])),3)\n",
    "sigmas = ensemble_predictions[:,:,:,int(num_fea):]\n",
    "sigmas = torch.clamp(sigmas, min=min_logvar, max=max_logvar)\n",
    "mu_preds = torch.Tensor(preds)\n",
    "# mu_preds = denormalize_data(mu_preds, train_mean,  train_std)\n",
    "sigma_preds = torch.Tensor(torch.exp(sigmas))"
   ]
  },
  {
   "cell_type": "code",
   "execution_count": 31,
   "metadata": {},
   "outputs": [],
   "source": [
    "# Sigmoid function:\n",
    "def sigmoid(list_x):\n",
    "    return [1/(1+np.exp(-x)) for x in list_x]\n",
    "\n",
    "# Inverse Function:\n",
    "def inverse(list_x):\n",
    "    return [1/(1e-4 + x) for x in list_x]\n",
    "\n",
    "# relative loss:\n",
    "def rel_loss(list_x):\n",
    "    max_x = max(list_x)\n",
    "    return [(max_x -x) for x in list_x]\n",
    "\n",
    "\n",
    "# Weights:\n",
    "def weights(list_x):\n",
    "    return [x/sum(list_x) for x in list_x] \n",
    "\n",
    "# Weighted sum:\n",
    "def weighted_sum(weights, array):\n",
    "#     mu_ens = np.zeors_like(mu_preds[0])\n",
    "    avg_ens = np.tensordot(weights, array, axes=([0], [0]))\n",
    "    return avg_ens\n",
    "        \n",
    "    "
   ]
  },
  {
   "cell_type": "code",
   "execution_count": 32,
   "metadata": {},
   "outputs": [],
   "source": [
    "def calculate_aggressive_weights(val_losses):\n",
    "    # Shift the losses so the smallest loss is close to zero\n",
    "    shifted_losses = val_losses - np.min(val_losses)\n",
    "\n",
    "    # Apply a more aggressive inverse scaling: Square the inverse of shifted losses\n",
    "    # Adding a small constant to avoid division by zero in inverse calculation\n",
    "    aggressive_inverse_losses = 1 / (1e-4 + shifted_losses ** 3)\n",
    "\n",
    "    # Normalize the new set of weights\n",
    "    aggressive_weights = aggressive_inverse_losses / np.sum(aggressive_inverse_losses)\n",
    "\n",
    "    return aggressive_weights"
   ]
  },
  {
   "cell_type": "code",
   "execution_count": 33,
   "metadata": {},
   "outputs": [
    {
     "data": {
      "text/plain": [
       "array([1.])"
      ]
     },
     "execution_count": 33,
     "metadata": {},
     "output_type": "execute_result"
    }
   ],
   "source": [
    "weights = calculate_aggressive_weights(ensemble_val_loss)\n",
    "weights"
   ]
  },
  {
   "cell_type": "code",
   "execution_count": 34,
   "metadata": {},
   "outputs": [],
   "source": [
    "# Compute the ensemble mean and variance:\n",
    "# mu_preds, sigma_preds =torch.stack(preds), torch.stack(sigmas) # Imp to convert a torch list to tensor\n",
    "\n",
    "import matplotlib.colors as mcolors\n",
    "from matplotlib.patches import Ellipse\n",
    "\n",
    "def plot_UQ(X_test, y_test, mus, sigmas, ground_cov, initial_pos,  id_no=100):\n",
    "    \n",
    "    num_fea = mus.shape[3]\n",
    "#     sigmas = np.exp(sigmas)\n",
    "    mu_preds = mus\n",
    "    fig, axs = plt.subplots(nrows = 4, ncols =1, figsize =(12,12), sharex= True, sharey=False)\n",
    "    for n_ens in range(mu_preds.shape[0]):\n",
    "\n",
    "        axs[n_ens].scatter(X_test[id_no,:,0] + initial_pos[id_no,0],  X_test[id_no,:,1] +  initial_pos[id_no,1], color='g',marker='o',s =5, label = 'Input')\n",
    "        axs[n_ens].plot(y_test[id_no,:,0] +  initial_pos[id_no,0],  y_test[id_no,:,1] + initial_pos[id_no,1], color='r',alpha=0.5, marker='^', ms =3,label = 'Ground Truth' )\n",
    "        axs[n_ens].plot(mu_preds[n_ens,id_no,:,0] +  initial_pos[id_no,0], mu_preds[n_ens,id_no,:,1] + initial_pos[id_no,1], color='b', marker='d', alpha=0.85, ms = 3, label = 'NN state Estimate')\n",
    "\n",
    "        num_fea = mu_preds.shape[3]\n",
    "        var_state_unc = (mu_preds[n_ens,:,:,2:4]) \n",
    "\n",
    "        state_cov = []\n",
    "        pred_cov = []\n",
    "        mu = []\n",
    "        for pred in range(pred_len): \n",
    "\n",
    "            mean = np.squeeze(mu_preds[n_ens,id_no, pred, :2] + initial_pos[id_no,:])\n",
    "            cov_pred = np.squeeze(np.diag(sigmas[n_ens,id_no,pred,:]))\n",
    "\n",
    "            cov_state = np.squeeze(var_state_unc[id_no, pred,:2])\n",
    "            cov_state = np.diag(np.squeeze(cov_state))\n",
    "\n",
    "            lambda_tot, v_tot = np.linalg.eig(cov_pred)\n",
    "            lambda_tot = np.sqrt(lambda_tot)\n",
    "\n",
    "            lambda_ale, v_ale = np.linalg.eig(cov_state)\n",
    "            lambda_ale = np.sqrt(lambda_ale)\n",
    "\n",
    "    #         for pred in range(20):\n",
    "    #             cov = np.cov(ground_cov[:,id_no,pred,0],ground_cov[:,id_no,pred,1] ) \n",
    "    #             lambda_, v_ = np.linalg.eig(cov)\n",
    "    #             lambda_ = np.sqrt(lambda_)\n",
    "\n",
    "\n",
    "    #             for j in range(2,3):\n",
    "    #                 ell3 = Ellipse(xy = (ground_cov[:,id_no,pred,0].mean(), ground_cov[:,id_no,pred,1].mean()),\n",
    "    #                          width = (lambda_[0] ) * j* 2 ,\n",
    "    #                          height = (lambda_[1] ) *j* 2,\n",
    "    #                             angle = np.degrees(np.arctan2(v_[1, 0], v_[0, 0])),\n",
    "    #                              color = 'black',  lw = 0.5) \n",
    "    #                 ell3.set_facecolor('green')\n",
    "    #                 ell3.set_alpha(0.25)\n",
    "    #                 ax.add_artist(ell3)\n",
    "    #             ell3.set_label(\"KF state uncertainty $(2\\sigma)$\")\n",
    "\n",
    "\n",
    "            for j in range(1,2):\n",
    "                ell1 = Ellipse(xy = (mean[0], mean[1]),\n",
    "                         width = ( 1* lambda_ale[0] ) * j* 2 ,\n",
    "                         height = ( 1*lambda_ale[1] ) *j* 2,\n",
    "                            angle = np.rad2deg(np.arccos((v_ale[0,0]))),\n",
    "                             color = 'none',  lw = 0.5) \n",
    "                ell1.set_facecolor('tab:blue')\n",
    "                ell1.set_alpha(0.2/j)\n",
    "                axs[n_ens].add_artist(ell1)\n",
    "\n",
    "                ell2 = Ellipse(xy = (mean[0], mean[1]),\n",
    "                     width = (lambda_tot[0]) * j* 2,\n",
    "                     height = (lambda_tot[1]) *j* 2,\n",
    "                        angle = np.rad2deg(np.arccos((v_ale[0,0]))),\n",
    "                     color = 'none', linestyle  ='--', lw = 0.25)\n",
    "                ell2.set_facecolor('tab:olive')\n",
    "                ell2.set_alpha(0.4/j)\n",
    "                axs[n_ens].add_artist(ell2)\n",
    "\n",
    "        axs[n_ens].set_ylim([-15,15])\n",
    "        axs[n_ens].set_xlim([-15,15])\n",
    "        axs[n_ens].set_aspect('equal', adjustable='box')\n",
    "\n",
    "    # Ensemble model Average:\n",
    "    mu_ens = weighted_sum(weights, mu_preds) \n",
    "    axs[3].scatter(X_test[id_no,:,0] + initial_pos[id_no,0],  X_test[id_no,:,1] + initial_pos[id_no,1], color='g',marker='o',s =5, label = 'Input')\n",
    "    axs[3].plot(y_test[id_no,:,0] + initial_pos[id_no,0],  y_test[id_no,:,1] + initial_pos[id_no,1], color='r',alpha=0.5, marker='^', ms =3,label = 'Ground Truth' )\n",
    "    axs[3].plot(mu_ens[id_no,:,0] + initial_pos[id_no,0], mu_ens[id_no,:,1] + initial_pos[id_no,1], color='b', marker='d', alpha=0.85, ms = 3, label = 'NN state Estimate' )\n",
    "    axs[3].set_ylim([-15,15])\n",
    "    axs[3].set_xlim([-15,15])\n",
    "    axs[3].set_aspect('equal', adjustable='box')\n",
    "\n",
    "    var_aleatoric = weighted_sum(weights, sigmas[:,:,:,:2])\n",
    "    var_epistemic = weighted_sum(weights, mu_preds[:,:,:,:2]**2) - mu_ens[:,:,:2]**2\n",
    "    var_ens = var_aleatoric  + var_epistemic\n",
    "\n",
    "    var_state_unc = (weighted_sum(weights, mu_preds[:,:,:,2:4])) \n",
    "#     print(var_state_unc)\n",
    "\n",
    "    for pred in range(pred_len): \n",
    "\n",
    "            mean = np.squeeze(mu_ens[id_no, pred, :2] + initial_pos[id_no,:])\n",
    "            cov_pred = np.squeeze(np.squeeze(np.diag(var_ens[id_no,pred,:])))\n",
    "\n",
    "            # Total Variance:\n",
    "            cov_state = np.squeeze(var_state_unc[id_no, pred,:2])\n",
    "            cov_state = np.diag(np.squeeze(cov_state))\n",
    "\n",
    "\n",
    "            lambda_tot, v_tot = np.linalg.eig(cov_pred)\n",
    "            lambda_tot = np.sqrt(lambda_tot)\n",
    "\n",
    "            lambda_ale, v_ale = np.linalg.eig(cov_state)\n",
    "            lambda_ale = np.sqrt(lambda_ale)\n",
    "\n",
    "\n",
    "            for j in range(1,2):\n",
    "                ell1 = Ellipse(xy = (mean[0], mean[1]),\n",
    "                         width = ( 1* lambda_ale[0] ) * j* 2 ,\n",
    "                         height = ( 1*lambda_ale[1] ) *j* 2,\n",
    "                            angle = np.rad2deg(np.arccos((v_ale[0,0]))),\n",
    "                             color = 'none',  lw = 0.5) \n",
    "                ell1.set_facecolor('tab:blue')\n",
    "                ell1.set_alpha(0.2/j)\n",
    "                axs[3].add_artist(ell1)\n",
    "\n",
    "                ell2 = Ellipse(xy = (mean[0], mean[1]),\n",
    "                     width = (lambda_tot[0]) * j* 2,\n",
    "                     height = (lambda_tot[1]) *j* 2,\n",
    "                        angle = np.rad2deg(np.arccos((v_ale[0,0]))),\n",
    "                     color = 'none', linestyle  ='--', lw = 0.25)\n",
    "                ell2.set_facecolor('tab:olive')\n",
    "                ell2.set_alpha(0.4/j)\n",
    "                axs[3].add_artist(ell2)\n",
    "    plt.show()"
   ]
  },
  {
   "cell_type": "code",
   "execution_count": 35,
   "metadata": {},
   "outputs": [
    {
     "data": {
      "image/png": "[encoded data removed]",
      "text/plain": [
       "<Figure size 1200x1200 with 4 Axes>"
      ]
     },
     "metadata": {},
     "output_type": "display_data"
    }
   ],
   "source": [
    "id_list = [36]\n",
    "\n",
    "for id_no in id_list:\n",
    "    plot_UQ (test_input[:,0,:,:].detach().cpu().numpy(),\n",
    "            test_output[:,0,:,:].detach().cpu().numpy(), \n",
    "            mu_preds.detach().cpu().numpy(), \n",
    "            sigma_preds.detach().cpu().numpy(), \n",
    "            gaussian_test_traj.detach().cpu().numpy(),\n",
    "            test_start_pos.squeeze(),\n",
    "            id_no = id_no)"
   ]
  },
  {
   "cell_type": "code",
   "execution_count": 36,
   "metadata": {},
   "outputs": [
    {
     "data": {
      "image/png": "[encoded data removed]",
      "text/plain": [
       "<Figure size 600x600 with 1 Axes>"
      ]
     },
     "metadata": {},
     "output_type": "display_data"
    }
   ],
   "source": [
    "## Animate the Trajectory for visualizing UQ:\n",
    "import matplotlib.animation as animation\n",
    "\n",
    "def animate_UQ(X_test, y_test, mus, sigmas, ground_cov, initial_pos, id_list):\n",
    "    num_fea = mus.shape[3]\n",
    "    mu_preds = mus\n",
    "    fig, ax = plt.subplots(figsize=(6, 6))\n",
    "    \n",
    "    # Define the initialization function to clear the plot\n",
    "    def init():\n",
    "        ax.clear()\n",
    "        ax.set_xlim([-15, 15])\n",
    "        ax.set_ylim([-15, 15])\n",
    "        ax.set_aspect('equal', adjustable='box')\n",
    "        return ax,\n",
    "    \n",
    "    # Define the animation function\n",
    "    def animate(id_no):\n",
    "        ax.clear()\n",
    "        ax.set_xlim([-15, 15])\n",
    "        ax.set_ylim([-15, 15])\n",
    "        ax.set_aspect('equal', adjustable='box')\n",
    "\n",
    "        ax.scatter(X_test[id_no, :, 0] + initial_pos[id_no,0], X_test[id_no, :, 1] + initial_pos[id_no,1], color='g', marker='o', s=5, label='Input')\n",
    "        ax.plot(y_test[id_no, :, 0] + initial_pos[id_no,0], y_test[id_no, :, 1] + initial_pos[id_no,1], color='r', alpha=0.5, marker='^', ms=3, label='Ground Truth')\n",
    "        \n",
    "        mu_ens = weighted_sum(weights, mu_preds)\n",
    "        ax.plot(mu_ens[id_no, :, 0] + initial_pos[id_no,0], mu_ens[id_no, :, 1] + initial_pos[id_no,1], color='b', marker='d', alpha=0.85, ms=3, label='NN state Estimate')\n",
    "\n",
    "        var_aleatoric = weighted_sum(weights, sigmas[:, :, :, :2])\n",
    "        var_epistemic = weighted_sum(weights, mu_preds[:, :, :, :2] ** 2) - mu_ens[:, :, :2] ** 2\n",
    "        var_ens = var_aleatoric + var_epistemic\n",
    "        var_state_unc = weighted_sum(weights, mu_preds[:, :, :, 2:4])\n",
    "        \n",
    "        for pred in range(pred_len):\n",
    "            mean = np.squeeze(mu_ens[id_no, pred, :2]  + initial_pos[id_no,:])\n",
    "            cov_pred = np.squeeze(np.squeeze(np.diag(var_ens[id_no, pred, :])))\n",
    "            cov_state = np.squeeze(var_state_unc[id_no, pred, :2])\n",
    "            cov_state = np.diag(np.squeeze(cov_state))\n",
    "            \n",
    "            lambda_tot, v_tot = np.linalg.eig(cov_pred)\n",
    "            lambda_tot = np.sqrt(lambda_tot)\n",
    "            lambda_ale, v_ale = np.linalg.eig(cov_state)\n",
    "            lambda_ale = np.sqrt(lambda_ale)\n",
    "            \n",
    "            for j in range(1, 2):\n",
    "                ell1 = Ellipse(xy=(mean[0], mean[1]),\n",
    "                               width=(1 * lambda_ale[0]) * j * 2,\n",
    "                               height=(1 * lambda_ale[1]) * j * 2,\n",
    "                               angle=np.rad2deg(np.arccos((v_ale[0, 0]))),\n",
    "                               color='none', lw=0.5)\n",
    "                ell1.set_facecolor('tab:blue')\n",
    "                ell1.set_alpha(0.2 / j)\n",
    "                ax.add_artist(ell1)\n",
    "\n",
    "                ell2 = Ellipse(xy=(mean[0], mean[1]),\n",
    "                               width=(lambda_tot[0]) * j * 2,\n",
    "                               height=(lambda_tot[1]) * j * 2,\n",
    "                               angle=np.rad2deg(np.arccos((v_ale[0, 0]))),\n",
    "                               color='none', linestyle='--', lw=0.25)\n",
    "                ell2.set_facecolor('tab:olive')\n",
    "                ell2.set_alpha(0.4 / j)\n",
    "                ax.add_artist(ell2)\n",
    "\n",
    "        # ax.legend()\n",
    "        return ax,\n",
    "\n",
    "    ani = animation.FuncAnimation(fig, animate, frames=id_list, init_func=init, blit=False, repeat=False)\n",
    "    anim_writer = animation.PillowWriter(fps=2)\n",
    "    ani.save('Trajectory_trajnet.gif', writer=anim_writer)\n",
    "    plt.show()\n",
    "\n",
    "# Example usage\n",
    "id_list = list(range(10,100))  # Add more IDs as needed\n",
    "animate_UQ(test_input[:, 0, :, :].detach().cpu().numpy(),\n",
    "           test_output[:, 0, :, :].detach().cpu().numpy(),\n",
    "           mu_preds.detach().cpu().numpy(),\n",
    "           sigma_preds.detach().cpu().numpy(),\n",
    "           gaussian_test_traj.detach().cpu().numpy(),\n",
    "           test_start_pos.squeeze(),\n",
    "           id_list)"
   ]
  },
  {
   "cell_type": "code",
   "execution_count": 37,
   "metadata": {},
   "outputs": [],
   "source": [
    "test_output = torch.squeeze(test_output)"
   ]
  },
  {
   "cell_type": "code",
   "execution_count": 38,
   "metadata": {},
   "outputs": [
    {
     "data": {
      "text/plain": [
       "torch.Size([5910, 12, 4])"
      ]
     },
     "execution_count": 38,
     "metadata": {},
     "output_type": "execute_result"
    }
   ],
   "source": [
    "test_output.shape"
   ]
  },
  {
   "cell_type": "code",
   "execution_count": 39,
   "metadata": {},
   "outputs": [
    {
     "name": "stderr",
     "output_type": "stream",
     "text": [
      "/tmp/ipykernel_329279/526604691.py:4: UserWarning: To copy construct from a tensor, it is recommended to use sourceTensor.clone().detach() or sourceTensor.clone().detach().requires_grad_(True), rather than torch.tensor(sourceTensor).\n",
      "  ADE = average_displacement_error(pred_len, mu_preds, torch.tensor(test_output).float().to(device).unsqueeze(0))\n",
      "/tmp/ipykernel_329279/526604691.py:5: UserWarning: To copy construct from a tensor, it is recommended to use sourceTensor.clone().detach() or sourceTensor.clone().detach().requires_grad_(True), rather than torch.tensor(sourceTensor).\n",
      "  FDE = final_displacement_error(pred_len, mu_preds, torch.tensor(test_output).float().to(device).unsqueeze(0))\n"
     ]
    }
   ],
   "source": [
    "from utils import *\n",
    "\n",
    "# Compute the average Displacement and final displacement error:\n",
    "ADE = average_displacement_error(pred_len, mu_preds, torch.tensor(test_output).float().to(device).unsqueeze(0))\n",
    "FDE = final_displacement_error(pred_len, mu_preds, torch.tensor(test_output).float().to(device).unsqueeze(0))"
   ]
  },
  {
   "cell_type": "code",
   "execution_count": 40,
   "metadata": {},
   "outputs": [
    {
     "data": {
      "text/plain": [
       "tensor([0.3837])"
      ]
     },
     "execution_count": 40,
     "metadata": {},
     "output_type": "execute_result"
    }
   ],
   "source": [
    "ADE"
   ]
  },
  {
   "cell_type": "code",
   "execution_count": 41,
   "metadata": {},
   "outputs": [
    {
     "data": {
      "text/plain": [
       "tensor([0.8016])"
      ]
     },
     "execution_count": 41,
     "metadata": {},
     "output_type": "execute_result"
    }
   ],
   "source": [
    "FDE"
   ]
  },
  {
   "cell_type": "code",
   "execution_count": 183,
   "metadata": {},
   "outputs": [
    {
     "data": {
      "text/plain": [
       "torch.Size([2356, 1, 8, 4])"
      ]
     },
     "execution_count": 183,
     "metadata": {},
     "output_type": "execute_result"
    }
   ],
   "source": [
    "test_input.shape"
   ]
  },
  {
   "cell_type": "code",
   "execution_count": null,
   "metadata": {},
   "outputs": [],
   "source": []
  }
 ],
 "metadata": {
  "kernelspec": {
   "display_name": "uncertainty_aware",
   "language": "python",
   "name": "python3"
  },
  "language_info": {
   "codemirror_mode": {
    "name": "ipython",
    "version": 3
   },
   "file_extension": ".py",
   "mimetype": "text/x-python",
   "name": "python",
   "nbconvert_exporter": "python",
   "pygments_lexer": "ipython3",
   "version": "3.8.-1"
  }
 },
 "nbformat": 4,
 "nbformat_minor": 2
}
