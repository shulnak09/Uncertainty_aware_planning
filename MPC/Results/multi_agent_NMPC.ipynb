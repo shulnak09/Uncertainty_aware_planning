{
 "cells": [
  {
   "cell_type": "code",
   "execution_count": 11,
   "metadata": {},
   "outputs": [],
   "source": [
    "import numpy as np\n",
    "from scipy.optimize import minimize, Bounds\n",
    "import time\n",
    "from utils import create_robot, create_obstacles, plot_robot_and_obstacles"
   ]
  },
  {
   "cell_type": "code",
   "execution_count": 2,
   "metadata": {},
   "outputs": [],
   "source": [
    "SIM_TIME = 8. \n",
    "TIMESTEP = 0.1\n",
    "NUMBER_OF_TIMESTEPS = int(SIM_TIME/TIMESTEP)\n",
    "ROBOT_RADIUS = 0.5\n",
    "VMAX = 2\n",
    "VMIN = 0.2\n",
    "\n",
    "# collision cost parameters\n",
    "Qc = 5.\n",
    "kappa = 4."
   ]
  },
  {
   "cell_type": "code",
   "execution_count": 3,
   "metadata": {},
   "outputs": [],
   "source": [
    "# nmpc parameters\n",
    "HORIZON_LENGTH = int(4)\n",
    "NMPC_TIMESTEP = 0.3\n",
    "upper_bound = [(1/np.sqrt(2)) * VMAX] * HORIZON_LENGTH * 2\n",
    "lower_bound = [-(1/np.sqrt(2)) * VMAX] * HORIZON_LENGTH * 2"
   ]
  },
  {
   "cell_type": "code",
   "execution_count": 4,
   "metadata": {},
   "outputs": [],
   "source": [
    "def compute_xref(start, goal, number_of_steps, timestep):\n",
    "    dir_vec = (goal - start)\n",
    "    norm = np.linalg.norm(dir_vec)\n",
    "    if norm < 0.1:\n",
    "        new_goal = start\n",
    "    else:\n",
    "        dir_vec = dir_vec / norm\n",
    "        new_goal = start + dir_vec * VMAX * timestep * number_of_steps\n",
    "    return np.linspace(start, new_goal, number_of_steps).reshape((2*number_of_steps))"
   ]
  },
  {
   "cell_type": "code",
   "execution_count": 5,
   "metadata": {},
   "outputs": [],
   "source": [
    "def update_state(x0, u, timestep):\n",
    "    \"\"\"\n",
    "    Computes the states of the system after applying a sequence of control signals u on\n",
    "    initial state x0\n",
    "    \"\"\"\n",
    "    N = int(len(u) / 2)\n",
    "    lower_triangular_ones_matrix = np.tril(np.ones((N, N)))\n",
    "    kron = np.kron(lower_triangular_ones_matrix, np.eye(2))\n",
    "\n",
    "    new_state = np.vstack([np.eye(2)] * int(N)) @ x0 + kron @ u * timestep\n",
    "\n",
    "    return new_state"
   ]
  },
  {
   "cell_type": "code",
   "execution_count": 6,
   "metadata": {},
   "outputs": [],
   "source": [
    "def collision_cost(x0, x1):\n",
    "    \"\"\"\n",
    "    Cost of collision between two robot_state\n",
    "    \"\"\"\n",
    "    d = np.linalg.norm(x0 - x1)\n",
    "    cost = Qc / (1 + np.exp(kappa * (d - 2*ROBOT_RADIUS)))\n",
    "    return cost"
   ]
  },
  {
   "cell_type": "code",
   "execution_count": 7,
   "metadata": {},
   "outputs": [],
   "source": [
    "def total_cost(u, robot_state, obstacle_predictions, xref):\n",
    "    x_robot = update_state(robot_state, u, NMPC_TIMESTEP)\n",
    "    c1 = tracking_cost(x_robot, xref)\n",
    "    c2 = total_collision_cost(x_robot, obstacle_predictions)\n",
    "    total = c1 + c2\n",
    "    return total\n",
    "\n",
    "\n",
    "def tracking_cost(x, xref):\n",
    "    return np.linalg.norm(x-xref)\n",
    "\n",
    "\n",
    "def total_collision_cost(robot, obstacles):\n",
    "    total_cost = 0\n",
    "    for i in range(HORIZON_LENGTH):\n",
    "        for j in range(len(obstacles)):\n",
    "            obstacle = obstacles[j]\n",
    "            rob = robot[2 * i: 2 * i + 2]\n",
    "            obs = obstacle[2 * i: 2 * i + 2]\n",
    "            total_cost += collision_cost(rob, obs)\n",
    "    return total_cost\n"
   ]
  },
  {
   "cell_type": "code",
   "execution_count": 8,
   "metadata": {},
   "outputs": [],
   "source": [
    "def compute_velocity(robot_state, obstacle_predictions, xref):\n",
    "    \"\"\"\n",
    "    Computes control velocity of the copter\n",
    "    \"\"\"\n",
    "    # u0 = np.array([0] * 2 * HORIZON_LENGTH)\n",
    "    u0 = np.random.rand(2*HORIZON_LENGTH)\n",
    "    def cost_fn(u): return total_cost(\n",
    "        u, robot_state, obstacle_predictions, xref)\n",
    "\n",
    "    bounds = Bounds(lower_bound, upper_bound)\n",
    "\n",
    "    res = minimize(cost_fn, u0, method='SLSQP', bounds=bounds)\n",
    "    velocity = res.x[:2]\n",
    "    return velocity, res.x\n"
   ]
  },
  {
   "cell_type": "code",
   "execution_count": 9,
   "metadata": {},
   "outputs": [],
   "source": [
    "def predict_obstacle_positions(obstacles):\n",
    "    obstacle_predictions = []\n",
    "    for i in range(np.shape(obstacles)[1]):\n",
    "        obstacle = obstacles[:, i]\n",
    "        obstacle_position = obstacle[:2]\n",
    "        obstacle_vel = obstacle[2:]\n",
    "        u = np.vstack([np.eye(2)] * HORIZON_LENGTH) @ obstacle_vel\n",
    "        obstacle_prediction = update_state(obstacle_position, u, NMPC_TIMESTEP)\n",
    "        obstacle_predictions.append(obstacle_prediction)\n",
    "    return obstacle_predictions"
   ]
  },
  {
   "cell_type": "code",
   "execution_count": 16,
   "metadata": {},
   "outputs": [
    {
     "data": {
      "image/png": "[encoded data removed]",
      "text/plain": [
       "<Figure size 640x480 with 1 Axes>"
      ]
     },
     "metadata": {},
     "output_type": "display_data"
    }
   ],
   "source": [
    "filename = \"nmpc.avi\"\n",
    "obstacles = create_obstacles(SIM_TIME, NUMBER_OF_TIMESTEPS)\n",
    "\n",
    "start = np.array([5, 5])\n",
    "p_desired = np.array([5, 5])\n",
    "\n",
    "robot_state = start\n",
    "robot_state_history = np.empty((4, NUMBER_OF_TIMESTEPS))\n",
    "\n",
    "for i in range(NUMBER_OF_TIMESTEPS):\n",
    "    # predict the obstacles' position in future\n",
    "    obstacle_predictions = predict_obstacle_positions(obstacles[:, i, :])\n",
    "    xref = compute_xref(robot_state, p_desired,\n",
    "                        HORIZON_LENGTH, NMPC_TIMESTEP)\n",
    "    # compute velocity using nmpc\n",
    "    vel, velocity_profile = compute_velocity(\n",
    "        robot_state, obstacle_predictions, xref)\n",
    "    robot_state = update_state(robot_state, vel, TIMESTEP)\n",
    "    robot_state_history[:2, i] = robot_state\n",
    "\n",
    "plot_robot_and_obstacles(\n",
    "    robot_state_history, obstacles, ROBOT_RADIUS, NUMBER_OF_TIMESTEPS, SIM_TIME, filename)\n"
   ]
  },
  {
   "cell_type": "code",
   "execution_count": 15,
   "metadata": {},
   "outputs": [
    {
     "data": {
      "text/plain": [
       "(4, 80, 4)"
      ]
     },
     "execution_count": 15,
     "metadata": {},
     "output_type": "execute_result"
    }
   ],
   "source": [
    "obstacles.shape"
   ]
  },
  {
   "cell_type": "code",
   "execution_count": 21,
   "metadata": {},
   "outputs": [
    {
     "data": {
      "text/plain": [
       "array([[5.        , 5.        ],\n",
       "       [5.33333333, 6.        ],\n",
       "       [5.66666667, 7.        ],\n",
       "       [6.        , 8.        ]])"
      ]
     },
     "execution_count": 21,
     "metadata": {},
     "output_type": "execute_result"
    }
   ],
   "source": [
    "new_goal = np.array([6,8])\n",
    "np.linspace(start, new_goal, 4)"
   ]
  },
  {
   "cell_type": "code",
   "execution_count": 36,
   "metadata": {},
   "outputs": [
    {
     "data": {
      "text/plain": [
       "array([[1., 0.],\n",
       "       [0., 1.],\n",
       "       [1., 0.],\n",
       "       [0., 1.]])"
      ]
     },
     "execution_count": 36,
     "metadata": {},
     "output_type": "execute_result"
    }
   ],
   "source": [
    "N =2\n",
    "np.vstack([np.eye(2)] * int(N))"
   ]
  },
  {
   "cell_type": "code",
   "execution_count": 37,
   "metadata": {},
   "outputs": [
    {
     "data": {
      "text/plain": [
       "array([[1., 0.],\n",
       "       [1., 1.]])"
      ]
     },
     "execution_count": 37,
     "metadata": {},
     "output_type": "execute_result"
    }
   ],
   "source": [
    "lower_triangular_ones_matrix = np.tril(np.ones((N, N)))\n",
    "\n",
    "lower_triangular_ones_matrix"
   ]
  },
  {
   "cell_type": "code",
   "execution_count": 38,
   "metadata": {},
   "outputs": [
    {
     "data": {
      "text/plain": [
       "array([[1., 0., 0., 0.],\n",
       "       [0., 1., 0., 0.],\n",
       "       [1., 0., 1., 0.],\n",
       "       [0., 1., 0., 1.]])"
      ]
     },
     "execution_count": 38,
     "metadata": {},
     "output_type": "execute_result"
    }
   ],
   "source": [
    "kron = np.kron(lower_triangular_ones_matrix, np.eye(2))\n",
    "kron"
   ]
  },
  {
   "cell_type": "code",
   "execution_count": 40,
   "metadata": {},
   "outputs": [],
   "source": [
    "obstacle_vel = np.array([2,1])\n",
    "u = np.vstack([np.eye(2)] * N) @ obstacle_vel"
   ]
  },
  {
   "cell_type": "code",
   "execution_count": 41,
   "metadata": {},
   "outputs": [
    {
     "data": {
      "text/plain": [
       "array([0.2, 0.1, 0.4, 0.2])"
      ]
     },
     "execution_count": 41,
     "metadata": {},
     "output_type": "execute_result"
    }
   ],
   "source": [
    "kron @ u * 0.1"
   ]
  },
  {
   "cell_type": "code",
   "execution_count": 42,
   "metadata": {},
   "outputs": [
    {
     "data": {
      "text/plain": [
       "array([2., 1., 2., 1.])"
      ]
     },
     "execution_count": 42,
     "metadata": {},
     "output_type": "execute_result"
    }
   ],
   "source": [
    "u"
   ]
  },
  {
   "cell_type": "code",
   "execution_count": null,
   "metadata": {},
   "outputs": [],
   "source": []
  }
 ],
 "metadata": {
  "kernelspec": {
   "display_name": "Python 3",
   "language": "python",
   "name": "python3"
  },
  "language_info": {
   "codemirror_mode": {
    "name": "ipython",
    "version": 3
   },
   "file_extension": ".py",
   "mimetype": "text/x-python",
   "name": "python",
   "nbconvert_exporter": "python",
   "pygments_lexer": "ipython3",
   "version": "3.7.9"
  }
 },
 "nbformat": 4,
 "nbformat_minor": 2
}
